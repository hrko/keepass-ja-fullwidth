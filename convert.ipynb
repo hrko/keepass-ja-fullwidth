{
 "cells": [
  {
   "cell_type": "code",
   "execution_count": null,
   "metadata": {},
   "outputs": [],
   "source": [
    "import requests\n",
    "import zipfile\n",
    "import gzip\n",
    "import io\n",
    "\n",
    "keepass_version = 2.49\n",
    "url = f\"https://downloads.sourceforge.net/keepass/KeePass-{keepass_version}-Japanese.zip\"\n",
    "\n",
    "zip_bytes = requests.get(url).content"
   ]
  },
  {
   "cell_type": "code",
   "execution_count": null,
   "metadata": {},
   "outputs": [],
   "source": [
    "\n",
    "with zipfile.ZipFile(io.BytesIO(zip_bytes)) as tmp:\n",
    "    lngx_bytes = tmp.read(\"Japanese.lngx\")\n"
   ]
  },
  {
   "cell_type": "code",
   "execution_count": null,
   "metadata": {},
   "outputs": [],
   "source": [
    "\n",
    "with gzip.open(io.BytesIO(lngx_bytes), mode='rt', encoding=\"utf-8\") as tmp:\n",
    "    xml_text = tmp.read()"
   ]
  },
  {
   "cell_type": "code",
   "execution_count": null,
   "metadata": {},
   "outputs": [],
   "source": [
    "print(xml_text)"
   ]
  },
  {
   "cell_type": "code",
   "execution_count": null,
   "metadata": {},
   "outputs": [],
   "source": [
    "import xml.etree.ElementTree as ET\n",
    "import unicodedata\n",
    "import uuid\n",
    "import datetime\n",
    "\n",
    "mod_author = \"hrko\"\n",
    "contact = \"https://github.com/hrko/keepass-ja-fullwidth\"\n",
    "generator = \"keepass-ja-fullwidth\"\n",
    "\n",
    "root = ET.fromstring(xml_text)\n",
    "\n",
    "for element in root.findall(\".//Value\"):\n",
    "    element.text = unicodedata.normalize('NFKC', element.text)\n",
    "\n",
    "for element in root.findall(\".//Text\"):\n",
    "    element.text = unicodedata.normalize('NFKC', element.text)\n",
    "\n",
    "element = root.find(\"./Properties/NameEnglish\")\n",
    "element.text = \"Japanese (Full Width)\"\n",
    "\n",
    "element = root.find(\"./Properties/NameNative\")\n",
    "element.text = \"日本語 (全角)\"\n",
    "\n",
    "element = root.find(\"./Properties/AuthorName\")\n",
    "element.text = f\"{element.text} (改変: {mod_author})\"\n",
    "\n",
    "element = root.find(\"./Properties/AuthorContact\")\n",
    "element.text = contact\n",
    "\n",
    "element = root.find(\"./Properties/Generator\")\n",
    "element.text = generator\n",
    "\n",
    "element = root.find(\"./Properties/FileUuid\")\n",
    "element.text = uuid.uuid4().hex.upper()\n",
    "\n",
    "element = root.find(\"./Properties/LastModified\")\n",
    "now = datetime.datetime.utcnow()\n",
    "element.text = now.strftime(\"%Y-%m-%d %H:%M:%SZ\")\n",
    "\n",
    "dest_lngx_path = f\"Japanese-{keepass_version}-FullWidth.lngx\"\n",
    "with gzip.open(dest_lngx_path, mode=\"wb\") as tmp:\n",
    "    tree = ET.ElementTree(root)\n",
    "    tree.write(tmp, encoding=\"utf-8\")\n",
    "\n"
   ]
  }
 ],
 "metadata": {
  "interpreter": {
   "hash": "56d36310a944c25e6b4680c1b7208c494af860f0cf129a273c88aa36d05e73ba"
  },
  "kernelspec": {
   "display_name": "3.8.7:pyenv",
   "language": "python",
   "name": "python3"
  },
  "language_info": {
   "codemirror_mode": {
    "name": "ipython",
    "version": 3
   },
   "file_extension": ".py",
   "mimetype": "text/x-python",
   "name": "python",
   "nbconvert_exporter": "python",
   "pygments_lexer": "ipython3",
   "version": "3.8.7"
  },
  "orig_nbformat": 4
 },
 "nbformat": 4,
 "nbformat_minor": 2
}
